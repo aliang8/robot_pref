{
 "cells": [
  {
   "cell_type": "code",
   "execution_count": null,
   "metadata": {},
   "outputs": [
    {
     "name": "stdout",
     "output_type": "stream",
     "text": [
      "Matrix shape: (3546, 3546)\n",
      "Min distance: 0.00\n",
      "Max distance: 118.82\n",
      "Mean distance: 29.21\n"
     ]
    }
   ],
   "source": [
    "import numpy as np\n",
    "import matplotlib.pyplot as plt\n",
    "import seaborn as sns\n",
    "import pickle\n",
    "from pathlib import Path\n",
    "\n",
    "# Load the distance matrix\n",
    "matrix_path = \"/scr2/shared/pref/datasets/robomimic/can/dtw_matrix_64.pkl\"\n",
    "with open(matrix_path, 'rb') as f:\n",
    "    distance_matrix, _ = pickle.load(f)\n",
    "\n",
    "print(f\"Matrix shape: {distance_matrix.shape}\")\n",
    "# Take out nans\n",
    "distance_matrix = np.nan_to_num(distance_matrix)\n",
    "print(f\"Min distance: {distance_matrix.min():.2f}\")\n",
    "print(f\"Max distance: {distance_matrix.max():.2f}\")\n",
    "print(f\"Mean distance: {distance_matrix.mean():.2f}\")\n",
    "\n",
    "# Create a figure with a larger size\n",
    "plt.figure(figsize=(12, 10))\n",
    "\n",
    "# Create the heatmap\n",
    "sns.heatmap(distance_matrix, \n",
    "            cmap='viridis',\n",
    "            xticklabels=False,\n",
    "            yticklabels=False,\n",
    "            cbar_kws={'label': 'DTW Distance'})\n",
    "\n",
    "plt.title('DTW Distance Matrix Heatmap')\n",
    "plt.tight_layout()\n",
    "plt.show()\n",
    "\n",
    "# Plot the distribution of distances\n",
    "plt.figure(figsize=(10, 6))\n",
    "sns.histplot(distance_matrix.flatten(), bins=50)\n",
    "plt.title('Distribution of DTW Distances')\n",
    "plt.xlabel('DTW Distance')\n",
    "plt.ylabel('Count')\n",
    "plt.show()\n",
    "\n",
    "# Find and plot the most similar and dissimilar pairs\n",
    "n_samples = 5\n",
    "\n",
    "# Get the indices of the most similar pairs (excluding self-similarity)\n",
    "np.fill_diagonal(distance_matrix, np.inf)\n",
    "most_similar_indices = np.unravel_index(np.argsort(distance_matrix, axis=None)[:n_samples], distance_matrix.shape)\n",
    "\n",
    "# Get the indices of the most dissimilar pairs\n",
    "most_dissimilar_indices = np.unravel_index(np.argsort(distance_matrix, axis=None)[-n_samples:], distance_matrix.shape)\n",
    "\n",
    "print(\"Most similar pairs:\")\n",
    "for i in range(n_samples):\n",
    "    idx1, idx2 = most_similar_indices[0][i], most_similar_indices[1][i]\n",
    "    print(f\"Pair ({idx1}, {idx2}): Distance = {distance_matrix[idx1, idx2]:.2f}\")\n",
    "\n",
    "print(\"\\nMost dissimilar pairs:\")\n",
    "for i in range(n_samples):\n",
    "    idx1, idx2 = most_dissimilar_indices[0][i], most_dissimilar_indices[1][i]\n",
    "    print(f\"Pair ({idx1}, {idx2}): Distance = {distance_matrix[idx1, idx2]:.2f}\") "
   ]
  },
  {
   "cell_type": "code",
   "execution_count": null,
   "metadata": {},
   "outputs": [],
   "source": []
  }
 ],
 "metadata": {
  "kernelspec": {
   "display_name": "pref",
   "language": "python",
   "name": "python3"
  },
  "language_info": {
   "codemirror_mode": {
    "name": "ipython",
    "version": 3
   },
   "file_extension": ".py",
   "mimetype": "text/x-python",
   "name": "python",
   "nbconvert_exporter": "python",
   "pygments_lexer": "ipython3",
   "version": "3.9.21"
  }
 },
 "nbformat": 4,
 "nbformat_minor": 2
}
